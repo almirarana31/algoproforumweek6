{
 "cells": [
  {
   "cell_type": "code",
   "execution_count": 1,
   "metadata": {},
   "outputs": [
    {
     "name": "stdout",
     "output_type": "stream",
     "text": [
      "Lloyd\n",
      "[90.0, 97.0, 75.0, 92.0]\n",
      "[88.0, 40.0, 94.0]\n",
      "[75.0, 90.0]\n",
      "Alice\n",
      "[100.0, 92.0, 98.0, 100.0]\n",
      "[82.0, 83.0, 91.0]\n",
      "[89.0, 97.0]\n",
      "Tyler\n",
      "[0.0, 87.0, 75.0, 22.0]\n",
      "[0.0, 75.0, 78.0]\n",
      "[100.0, 100.0]\n",
      "B\n"
     ]
    }
   ],
   "source": [
    "#forum task 1 \n",
    "\n",
    "#dictionaries\n",
    "lloyd = {\n",
    "  \"name\": \"Lloyd\",\n",
    "  \"homework\": [90.0,97.0,75.0,92.0],\n",
    "  \"quizzes\": [88.0,40.0,94.0],\n",
    "  \"tests\": [75.0,90.0]\n",
    "}\n",
    "alice = {\n",
    "  \"name\": \"Alice\",\n",
    "  \"homework\": [100.0, 92.0, 98.0, 100.0],\n",
    "  \"quizzes\": [82.0, 83.0, 91.0],\n",
    "  \"tests\": [89.0, 97.0]\n",
    "}\n",
    "tyler = {\n",
    "  \"name\": \"Tyler\",\n",
    "  \"homework\": [0.0, 87.0, 75.0, 22.0],\n",
    "  \"quizzes\": [0.0, 75.0, 78.0],\n",
    "  \"tests\": [100.0, 100.0]\n",
    "}\n",
    "\n",
    "#put dictionaries in a list called students\n",
    "students=[lloyd,alice,tyler]\n",
    "\n",
    "#iterate through list of students and print each value\n",
    "for x in students:\n",
    "  print(x[\"name\"])\n",
    "  print(x[\"homework\"])\n",
    "  print(x[\"quizzes\"])\n",
    "  print(x[\"tests\"])\n",
    "\n",
    "#define function to find the average of a list\n",
    "def average(list):\n",
    "  return float(sum(list)/len(list))\n",
    "\n",
    "#define function to find final grade of each student with weight multiplication\n",
    "def get_average(student):\n",
    "  homework=(average(student[\"homework\"]))\n",
    "  quizzes=(average(student[\"quizzes\"]))\n",
    "  tests=(average(student[\"tests\"]))\n",
    "  final=(homework*0.1)+(quizzes*0.3)+(tests*0.6)\n",
    "  return final\n",
    "  \n",
    "#define function to determine what letter grade each student gets\n",
    "def get_letter_grade(score):\n",
    "  if score >= 90:\n",
    "    return \"A\"\n",
    "  elif score >= 80:\n",
    "    return \"B\"\n",
    "  elif score >= 70:\n",
    "    return \"C\"\n",
    "  elif score >= 60:\n",
    "    return \"D\"\n",
    "  else:\n",
    "    return \"F\"\n",
    "  \n",
    "#print lloyds letter grade\n",
    "print(get_letter_grade(get_average(lloyd)))"
   ]
  },
  {
   "cell_type": "code",
   "execution_count": 9,
   "metadata": {},
   "outputs": [
    {
     "name": "stdout",
     "output_type": "stream",
     "text": [
      "The course details are:\n",
      "Course Name:\n",
      "Programming Concepts\n",
      "Instructor:\n",
      "Z. Beasley\n",
      "Class Times:\n",
      "MW 12:30pm - 1:45pm\n",
      "COP 4932 is an invalid course number.\n"
     ]
    }
   ],
   "source": [
    "#forum task 2\n",
    "\n",
    "#different dictionaries with the same keys but different values\n",
    "dict_course={(\"COP 2510\"):\"Programming Concepts\", (\"EGN 3000L\"): \"Foundations of Engineering Lab\", (\"MAC 2281\"):\"Calculus I\", (\"MUH 3016\"):\"Survey of Jazz\", (\"PHY 2048\"):\"General Physics\"}\n",
    "dict_instructor={(\"COP 2510\"):\"Z. Beasley\", (\"EGN 3000L\"): \"J. Anderson\", (\"MAC 2281\"):\"A. Makaryus\", (\"MUH 3016\"):\"A. Wilkins\", (\"PHY 2048\"):\"G. Pradhan\"}\n",
    "dict_times={(\"COP 2510\"):\"MW 12:30pm - 1:45pm\", (\"EGN 3000L\"): \"TR 11:00am - 12:15pm\", (\"MAC 2281\"):\"MW 9:30am - 10:45am\", (\"MUH 3016\"):\"online asynchronous\", (\"PHY 2048\"):\"TR 5:00pm - 6:15pm\"}\n",
    "\n",
    "#define function for user to input a key and return values\n",
    "def search_course():\n",
    "    while True:\n",
    "        search = input(\"Input course you'd like to search:\")\n",
    "        if search in dict_course and dict_instructor and dict_times:\n",
    "            print(\"The course details are:\", \"Course Name:\", dict_course[search], \"Instructor:\", dict_instructor[search], \"Class Times:\", dict_times[search], sep=\"\\n\")\n",
    "        else:\n",
    "            print(f\"{search} is an invalid course number.\")\n",
    "        another_search = input(\"Do you want to search for another course? (yes/no): \")\n",
    "        if another_search.lower() != 'yes':\n",
    "            break\n",
    "\n",
    "#function call\n",
    "search_course()"
   ]
  },
  {
   "cell_type": "code",
   "execution_count": 14,
   "metadata": {},
   "outputs": [
    {
     "name": "stdout",
     "output_type": "stream",
     "text": [
      "Sales amount must be greater than or equal to 0. Please try again.\n",
      "Sales amount must be greater than or equal to 0. Please try again.\n",
      "\n",
      "Total Sales for the Week: $10082.00\n",
      "Minimum Sales Amount: $560.00\n",
      "Maximum Sales Amount: $3010.00\n"
     ]
    }
   ],
   "source": [
    "#forum week 3\n",
    "\n",
    "#tuple with days of the week\n",
    "days_of_week = ('Sunday', 'Monday', 'Tuesday', 'Wednesday', 'Thursday', 'Friday', 'Saturday')\n",
    "\n",
    "#empty list\n",
    "sales_data = []\n",
    "\n",
    "#define function to revieve correct input and reject incorrect inputs\n",
    "def get_valid_sales(day):\n",
    "    while True:\n",
    "        try:\n",
    "            sales = float(input(f\"Enter sales for {day}: $\"))\n",
    "            if sales >= 0:\n",
    "                return sales\n",
    "            else:\n",
    "                print(\"Sales amount must be greater than or equal to 0. Please try again.\")\n",
    "        except ValueError:\n",
    "            print(\"Invalid input. Please enter a valid number.\")\n",
    "\n",
    "#format with 2 decimal place and comma\n",
    "def format_currency(amount):\n",
    "    return f\"${amount:.2f}\"\n",
    "\n",
    "#iterate to ask all days of a week\n",
    "for day in days_of_week:\n",
    "    sales = get_valid_sales(day)\n",
    "    sales_data.append(sales)\n",
    "\n",
    "#calculate total, min, and max sales\n",
    "total_sales = sum(sales_data)\n",
    "min_sales = min(sales_data)\n",
    "max_sales = max(sales_data)\n",
    "\n",
    "#formatting by calling function\n",
    "total_sales_formatted = format_currency(total_sales)\n",
    "min_sales_formatted = format_currency(min_sales)\n",
    "max_sales_formatted = format_currency(max_sales)\n",
    "\n",
    "#print results\n",
    "print(f\"\\nTotal Sales for the Week: {total_sales_formatted}\")\n",
    "print(f\"Minimum Sales Amount: {min_sales_formatted}\")\n",
    "print(f\"Maximum Sales Amount: {max_sales_formatted}\")\n"
   ]
  },
  {
   "cell_type": "code",
   "execution_count": 17,
   "metadata": {},
   "outputs": [
    {
     "name": "stdout",
     "output_type": "stream",
     "text": [
      "....-. -..... .--.....--..-. .--.-... ....-..-----.-- -.....-. .--.....-- .--.-... -..... --.-..-....-..----...--..\n"
     ]
    }
   ],
   "source": [
    "#forum task 4\n",
    "\n",
    "#create conversion function with dictionary within tuple containing code\n",
    "def conversion(text):\n",
    "  code = ({' ':' ', 'A':'.-', 'B':'-...', 'C':'-.-.', 'D':'-..', 'E':'.', 'F':'..-.',\n",
    "    'G':'--.', 'H':'....', 'I':'..', 'J':'.---', 'K':'-.-', 'L':'.-..'\n",
    "    ,'M':'--', 'N':'-.', 'O':'---', 'P': '.---.'\n",
    "    ,'Q':'--.-', 'R':'.-.', 'S':'...', 'T':'-', 'U':'..-'\n",
    "    ,'V':'...-', 'W':'.--', 'X':'-..-', 'Y':'-.--', 'Z':'--..', ',':'--.--',\n",
    "    '.':'.-.-.-', '?':'..--..','0':'-----', '1':'.----', '2':'..---',\n",
    "    '3':'...--', '4':'....-','5':'.....', '6':'-....','7':'--....', '8':'---..','9':'----.'})\n",
    "  \n",
    "  #create empty string\n",
    "  morse_code = \"\"\n",
    "\n",
    "  #for loop with if else conditonal to ensure character inputted is within dictionary\n",
    "  for char in text:\n",
    "    if char.upper() in code:\n",
    "      morse_code += code[char.upper()]\n",
    "    else:\n",
    "      morse_code += ' '\n",
    "\n",
    "  return morse_code\n",
    "\n",
    "#input from user\n",
    "text = input(\"Enter the string to be converted to Morse code:\")\n",
    "#print results by calling function\n",
    "print(conversion(text))"
   ]
  }
 ],
 "metadata": {
  "kernelspec": {
   "display_name": "Python 3",
   "language": "python",
   "name": "python3"
  },
  "language_info": {
   "codemirror_mode": {
    "name": "ipython",
    "version": 3
   },
   "file_extension": ".py",
   "mimetype": "text/x-python",
   "name": "python",
   "nbconvert_exporter": "python",
   "pygments_lexer": "ipython3",
   "version": "3.11.2"
  }
 },
 "nbformat": 4,
 "nbformat_minor": 2
}
